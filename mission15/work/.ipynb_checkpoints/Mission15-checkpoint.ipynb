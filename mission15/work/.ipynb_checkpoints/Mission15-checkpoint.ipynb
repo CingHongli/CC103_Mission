{
 "cells": [
  {
   "cell_type": "code",
   "execution_count": 1,
   "metadata": {},
   "outputs": [
    {
     "name": "stdout",
     "output_type": "stream",
     "text": [
      "Requirement already satisfied: pymysql in /opt/conda/lib/python3.6/site-packages\n",
      "Requirement already satisfied: cryptography in /opt/conda/lib/python3.6/site-packages (from pymysql)\n",
      "Requirement already satisfied: idna>=2.1 in /opt/conda/lib/python3.6/site-packages (from cryptography->pymysql)\n",
      "Requirement already satisfied: asn1crypto>=0.21.0 in /opt/conda/lib/python3.6/site-packages (from cryptography->pymysql)\n",
      "Requirement already satisfied: six>=1.4.1 in /opt/conda/lib/python3.6/site-packages (from cryptography->pymysql)\n",
      "Requirement already satisfied: cffi>=1.7 in /opt/conda/lib/python3.6/site-packages (from cryptography->pymysql)\n",
      "Requirement already satisfied: pycparser in /opt/conda/lib/python3.6/site-packages (from cffi>=1.7->cryptography->pymysql)\n",
      "\u001b[33mYou are using pip version 9.0.3, however version 18.1 is available.\n",
      "You should consider upgrading via the 'pip install --upgrade pip' command.\u001b[0m\n",
      "Requirement already satisfied: flask==0.12 in /opt/conda/lib/python3.6/site-packages\n",
      "Requirement already satisfied: click>=2.0 in /opt/conda/lib/python3.6/site-packages (from flask==0.12)\n",
      "Requirement already satisfied: Jinja2>=2.4 in /opt/conda/lib/python3.6/site-packages (from flask==0.12)\n",
      "Requirement already satisfied: itsdangerous>=0.21 in /opt/conda/lib/python3.6/site-packages (from flask==0.12)\n",
      "Requirement already satisfied: Werkzeug>=0.7 in /opt/conda/lib/python3.6/site-packages (from flask==0.12)\n",
      "Requirement already satisfied: MarkupSafe>=0.23 in /opt/conda/lib/python3.6/site-packages (from Jinja2>=2.4->flask==0.12)\n",
      "\u001b[33mYou are using pip version 9.0.3, however version 18.1 is available.\n",
      "You should consider upgrading via the 'pip install --upgrade pip' command.\u001b[0m\n"
     ]
    }
   ],
   "source": [
    "!pip install pymysql\n",
    "!pip install flask==0.12"
   ]
  },
  {
   "cell_type": "code",
   "execution_count": 2,
   "metadata": {},
   "outputs": [],
   "source": [
    "#import pymysql \n",
    "import pymysql\n",
    "\n",
    "#建立mysql連線\n",
    "conn = pymysql.connect(host='mysql' , port=3306, user='root' , password='iii', db='mysql', charset='utf8mb4')\n",
    "cur = conn.cursor()"
   ]
  },
  {
   "cell_type": "code",
   "execution_count": 3,
   "metadata": {},
   "outputs": [
    {
     "data": {
      "text/plain": [
       "1"
      ]
     },
     "execution_count": 3,
     "metadata": {},
     "output_type": "execute_result"
    }
   ],
   "source": [
    "#建立database\n",
    "cur.execute(\"CREATE DATABASE cc103\")"
   ]
  },
  {
   "cell_type": "code",
   "execution_count": 4,
   "metadata": {},
   "outputs": [
    {
     "data": {
      "text/plain": [
       "0"
      ]
     },
     "execution_count": 4,
     "metadata": {},
     "output_type": "execute_result"
    }
   ],
   "source": [
    "#創立表格及表格欄位\n",
    "cur.execute(\"use cc103;\")\n",
    "cur.execute(\"create table users(user_id varchar(255),user_name varchar(255) ) ;\")"
   ]
  },
  {
   "cell_type": "code",
   "execution_count": 3,
   "metadata": {},
   "outputs": [],
   "source": [
    "#製作flask環境\n",
    "from flask import Flask, request, jsonify\n",
    "app=Flask(__name__)"
   ]
  },
  {
   "cell_type": "code",
   "execution_count": 4,
   "metadata": {},
   "outputs": [],
   "source": [
    "@app.route('/hello',methods=['GET'])\n",
    "def hello():\n",
    "    return 'Hello World!!'"
   ]
  },
  {
   "cell_type": "code",
   "execution_count": 5,
   "metadata": {},
   "outputs": [],
   "source": [
    "#接口功能：檢視指定使用者資訊\n",
    "#接口位置：/user/<userid>，運用了url parameter，使用get的http method\n",
    "@app.route('/user/<userid>',methods=['GET'])\n",
    "#特別注意這邊有打userid，url parameter就是這樣使用\n",
    "def read_user(userid):\n",
    "    #找出資料庫符合userid的資料\n",
    "    cur.execute(\n",
    "        'SELECT * FROM cc103.users WHERE user_id = (\"%s\")' % (userid)\n",
    "        )\n",
    "    #將剛剛execute的資料取出來\n",
    "    user = cur.fetchone()\n",
    "    if user is not None:\n",
    "        user = {\n",
    "            \"user_id\":user[0],\n",
    "            \"user_name\":user[1],\n",
    "        }\n",
    "        #轉成line要的json格式\n",
    "        return jsonify(user)\n",
    "    #假如沒有找到符合的資料，回傳一個錯誤訊息\n",
    "    else:\n",
    "        result = {\n",
    "            \"status_describe\":\"Please enter the right id!!\"\n",
    "        }\n",
    "        return jsonify(result)"
   ]
  },
  {
   "cell_type": "code",
   "execution_count": null,
   "metadata": {},
   "outputs": [],
   "source": [
    "#接口功能：對資料庫新增使用者資料\n",
    "#接口位置：/user，使用post的http method\n",
    "@app.route('/user',methods=['POST'])\n",
    "def add_user():\n",
    "    #將傳過來的json檔擷取出來\n",
    "    a = request.get_json()\n",
    "    #方便錯誤排除\n",
    "    error = None\n",
    "        \n",
    "    if not a['user_id']:\n",
    "        #id沒填的話改變顯示的錯誤訊息\n",
    "        error = 'Userid is required.'\n",
    "    elif not a['user_name']:\n",
    "        #name沒填的話改變顯示的錯誤訊息\n",
    "        error = 'Username is required.'\n",
    "        \n",
    "    #看看資料庫內是否有重複的id\n",
    "    cur.execute('SELECT user_id FROM cc103.users WHERE user_id = (\"%s\")' % (a['user_id']))\n",
    "    #將execute的結果擷取出來\n",
    "    test = cur.fetchone() \n",
    "    if test:\n",
    "        #有重複的話改變顯示的錯誤訊息\n",
    "        error = 'User {} is already registered.'.format(a['user_id'])\n",
    "    \n",
    "    #沒有錯誤的話，將資料新增進資料庫\n",
    "    if error is None:\n",
    "        #插入資料庫中，要按照資料庫的格式塞入\n",
    "        insertsql=(\"INSERT INTO cc103.users VALUES ( %s,%s )\") \n",
    "        value = (a['user_id'],\n",
    "                 a['user_name'])\n",
    "        cur.execute(insertsql , value)\n",
    "        #將資料送進資料庫中\n",
    "        conn.commit()\n",
    "        #回傳一個正確的描述\n",
    "        result = { \"status_describe\":\"success add user\" }\n",
    "    else:\n",
    "        #製作一個錯誤的描述\n",
    "        result = {\"status_describe\":\"{}\".format(error)}\n",
    "\n",
    "    #回傳一個錯誤的描述\n",
    "    return jsonify(result)"
   ]
  },
  {
   "cell_type": "code",
   "execution_count": null,
   "metadata": {},
   "outputs": [],
   "source": [
    "#接口功能：更新指定使用者資訊\n",
    "#接口位置：/user/<userid>，使用put的http method\n",
    "@app.route('/user/<userid>',methods=['PUT'])\n",
    "#由於使用url parameter 所以有擷取userid\n",
    "def update_user(userid):\n",
    "    #取出傳過來的資料\n",
    "    a = request.get_json()\n",
    "    #方便錯誤排除\n",
    "    error = None\n",
    "\n",
    "    #看看資料庫內是否有重複的id\n",
    "    cur.execute('SELECT user_id FROM cc103.users WHERE user_id = (\"%s\")' % (userid))\n",
    "    test = cur.fetchone()\n",
    "    #沒有重複的話\n",
    "    if not test:\n",
    "        error = 'Please enter the right id.'\n",
    "    #沒有nick_name的話\n",
    "    elif not a['user_name']:\n",
    "        #name沒填的話改變顯示的錯誤訊息\n",
    "        error = 'Username is required.'\n",
    "\n",
    "    #沒有錯誤的話，將資料更新進資料庫\n",
    "    if error is None:\n",
    "        #更新資料庫\n",
    "        insertsql=('UPDATE cc103.users SET user_name=(\"%s\") WHERE user_id=(\"%s\")') % (a['user_name'],userid)\n",
    "        cur.execute(insertsql)\n",
    "        conn.commit()\n",
    "        #回傳一個正確的描述\n",
    "        #userid也加入result\n",
    "        result =  { \"status_describe\":\"success update user:{}\".format(userid) }\n",
    "        return jsonify(result)\n",
    "    \n",
    "    #製作一個錯誤的描述\n",
    "    result = {\"status_describe\":\"{}\".format(error)}\n",
    "    \n",
    "    #回傳轉檔成json格式的錯誤描述\n",
    "    return jsonify(result)"
   ]
  },
  {
   "cell_type": "code",
   "execution_count": null,
   "metadata": {},
   "outputs": [],
   "source": [
    "#__name__ == __main__ 代表你執行這個模塊（py檔）時會成立\n",
    "#假如你是被別的檔案import的話，__name__ == 檔案名稱，這個if就不會成立\n",
    "if __name__=='__main__':\n",
    "\n",
    "    #運行flask server，運行在0.0.0.0:5000\n",
    "    #要特別注意假如運行在127.0.0.1的話，會變成只有本機連的到，外網無法\n",
    "    app.run(host='0.0.0.0',port=5000)"
   ]
  },
  {
   "cell_type": "code",
   "execution_count": null,
   "metadata": {},
   "outputs": [],
   "source": []
  }
 ],
 "metadata": {
  "kernelspec": {
   "display_name": "Python 3",
   "language": "python",
   "name": "python3"
  },
  "language_info": {
   "codemirror_mode": {
    "name": "ipython",
    "version": 3
   },
   "file_extension": ".py",
   "mimetype": "text/x-python",
   "name": "python",
   "nbconvert_exporter": "python",
   "pygments_lexer": "ipython3",
   "version": "3.6.5"
  }
 },
 "nbformat": 4,
 "nbformat_minor": 2
}
